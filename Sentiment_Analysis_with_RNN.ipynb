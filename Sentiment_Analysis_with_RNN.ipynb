{
  "nbformat": 4,
  "nbformat_minor": 0,
  "metadata": {
    "colab": {
      "name": "Sentiment Analysis with RNN.ipynb",
      "provenance": [],
      "include_colab_link": true
    },
    "kernelspec": {
      "name": "python3",
      "display_name": "Python 3"
    },
    "accelerator": "GPU"
  },
  "cells": [
    {
      "cell_type": "markdown",
      "metadata": {
        "id": "view-in-github",
        "colab_type": "text"
      },
      "source": [
        "<a href=\"https://colab.research.google.com/github/atta007/Sentiment-Analysis-with-RNN/blob/master/Sentiment_Analysis_with_RNN.ipynb\" target=\"_parent\"><img src=\"https://colab.research.google.com/assets/colab-badge.svg\" alt=\"Open In Colab\"/></a>"
      ]
    },
    {
      "cell_type": "code",
      "metadata": {
        "id": "qLZf8hJBx2U4",
        "colab_type": "code",
        "outputId": "34ff0047-cff3-47fd-f6ec-7b616ce3fb2b",
        "colab": {
          "base_uri": "https://localhost:8080/",
          "height": 35
        }
      },
      "source": [
        "from keras.datasets import imdb #Keras has a built-in IMDb movie reviews data set that we can use"
      ],
      "execution_count": 0,
      "outputs": [
        {
          "output_type": "stream",
          "text": [
            "Using TensorFlow backend.\n"
          ],
          "name": "stderr"
        }
      ]
    },
    {
      "cell_type": "code",
      "metadata": {
        "id": "3bVVITLay7NI",
        "colab_type": "code",
        "outputId": "fa8f7da2-fb00-43e8-c2d6-52c808a7a098",
        "colab": {
          "base_uri": "https://localhost:8080/",
          "height": 72
        }
      },
      "source": [
        "#Downloading  and Set the Vocabulary size and load in training and test data\n",
        "\n",
        "vocab_size = 5000\n",
        "\n",
        "(X_train, y_train), (X_test, y_test) = imdb.load_data(num_words= vocab_size)\n",
        "\n",
        "print('Loaded dataset with {} training samples, {} test samples'.format(len(X_train), len(X_test)))"
      ],
      "execution_count": 0,
      "outputs": [
        {
          "output_type": "stream",
          "text": [
            "Downloading data from https://s3.amazonaws.com/text-datasets/imdb.npz\n",
            "17465344/17464789 [==============================] - 0s 0us/step\n",
            "Loaded dataset with 25000 training samples, 25000 test samples\n"
          ],
          "name": "stdout"
        }
      ]
    },
    {
      "cell_type": "code",
      "metadata": {
        "id": "7d_4gSLmzzTm",
        "colab_type": "code",
        "outputId": "ccdf3fa2-66ec-4065-dc84-48ea7f8f1ddc",
        "colab": {
          "base_uri": "https://localhost:8080/",
          "height": 110
        }
      },
      "source": [
        "#Inspect a sample review and its label\n",
        "\n",
        "print('---review---')\n",
        "print(X_train[6])\n",
        "\n",
        "print('---label---')\n",
        "print(y_train[6])\n",
        "\n",
        "#the label is an integer(0 for negative, 1 for positive)\n"
      ],
      "execution_count": 0,
      "outputs": [
        {
          "output_type": "stream",
          "text": [
            "---review---\n",
            "[1, 2, 365, 1234, 5, 1156, 354, 11, 14, 2, 2, 7, 1016, 2, 2, 356, 44, 4, 1349, 500, 746, 5, 200, 4, 4132, 11, 2, 2, 1117, 1831, 2, 5, 4831, 26, 6, 2, 4183, 17, 369, 37, 215, 1345, 143, 2, 5, 1838, 8, 1974, 15, 36, 119, 257, 85, 52, 486, 9, 6, 2, 2, 63, 271, 6, 196, 96, 949, 4121, 4, 2, 7, 4, 2212, 2436, 819, 63, 47, 77, 2, 180, 6, 227, 11, 94, 2494, 2, 13, 423, 4, 168, 7, 4, 22, 5, 89, 665, 71, 270, 56, 5, 13, 197, 12, 161, 2, 99, 76, 23, 2, 7, 419, 665, 40, 91, 85, 108, 7, 4, 2084, 5, 4773, 81, 55, 52, 1901]\n",
            "---label---\n",
            "1\n"
          ],
          "name": "stdout"
        }
      ]
    },
    {
      "cell_type": "code",
      "metadata": {
        "id": "QiinBwK_00GN",
        "colab_type": "code",
        "outputId": "d2971daf-2341-469c-ab6f-1e9d165daec7",
        "colab": {
          "base_uri": "https://localhost:8080/",
          "height": 147
        }
      },
      "source": [
        "#we can use the dictionary returned by imdb.get_word_index() to map the review back to the original words.\n",
        "\n",
        "word2id = imdb.get_word_index()\n",
        "id2word = {i: word for word,i in word2id.items()}\n",
        "\n",
        "print('---review with word---')\n",
        "print([id2word.get(i, '') for i in X_train[6]])\n",
        "print('---label---')\n",
        "print(y_train[6])"
      ],
      "execution_count": 0,
      "outputs": [
        {
          "output_type": "stream",
          "text": [
            "Downloading data from https://s3.amazonaws.com/text-datasets/imdb_word_index.json\n",
            "1646592/1641221 [==============================] - 0s 0us/step\n",
            "---review with word---\n",
            "['the', 'and', 'full', 'involving', 'to', 'impressive', 'boring', 'this', 'as', 'and', 'and', 'br', 'villain', 'and', 'and', 'need', 'has', 'of', 'costumes', 'b', 'message', 'to', 'may', 'of', 'props', 'this', 'and', 'and', 'concept', 'issue', 'and', 'to', \"god's\", 'he', 'is', 'and', 'unfolds', 'movie', 'women', 'like', \"isn't\", 'surely', \"i'm\", 'and', 'to', 'toward', 'in', \"here's\", 'for', 'from', 'did', 'having', 'because', 'very', 'quality', 'it', 'is', 'and', 'and', 'really', 'book', 'is', 'both', 'too', 'worked', 'carl', 'of', 'and', 'br', 'of', 'reviewer', 'closer', 'figure', 'really', 'there', 'will', 'and', 'things', 'is', 'far', 'this', 'make', 'mistakes', 'and', 'was', \"couldn't\", 'of', 'few', 'br', 'of', 'you', 'to', \"don't\", 'female', 'than', 'place', 'she', 'to', 'was', 'between', 'that', 'nothing', 'and', 'movies', 'get', 'are', 'and', 'br', 'yes', 'female', 'just', 'its', 'because', 'many', 'br', 'of', 'overly', 'to', 'descent', 'people', 'time', 'very', 'bland']\n",
            "---label---\n",
            "1\n"
          ],
          "name": "stdout"
        }
      ]
    },
    {
      "cell_type": "code",
      "metadata": {
        "id": "jBUCf-sY2FDj",
        "colab_type": "code",
        "outputId": "81253d16-d3f0-440e-8a8f-58f063c4da96",
        "colab": {
          "base_uri": "https://localhost:8080/",
          "height": 35
        }
      },
      "source": [
        "print('Maximum review length: {}', format(len(max((X_train + X_test), key=len))))"
      ],
      "execution_count": 0,
      "outputs": [
        {
          "output_type": "stream",
          "text": [
            "Maximum review length: {} 2697\n"
          ],
          "name": "stdout"
        }
      ]
    },
    {
      "cell_type": "code",
      "metadata": {
        "id": "xnCZWZsM3wo3",
        "colab_type": "code",
        "outputId": "6357b180-5769-41f7-d98a-c18519cdf440",
        "colab": {
          "base_uri": "https://localhost:8080/",
          "height": 35
        }
      },
      "source": [
        "print('Minimum review length: {}'.format(len(min((X_test + X_test), key=len))))"
      ],
      "execution_count": 0,
      "outputs": [
        {
          "output_type": "stream",
          "text": [
            "Minimum review length: 14\n"
          ],
          "name": "stdout"
        }
      ]
    },
    {
      "cell_type": "code",
      "metadata": {
        "id": "G6qMuC3V4Eiw",
        "colab_type": "code",
        "colab": {}
      },
      "source": [
        "#In order to feed this data into our RNN, all input documents must have the same length. \n",
        "#We will limit the maximum review length to max_words by truncating longer reviews and paddins shorter reviews with a null value(0).\n",
        "#We can accomplish this using the pad_sequence() functionms in keras. For now, set max_words to 500.\n",
        "\n",
        "\n",
        "from keras.preprocessing.sequence import pad_sequences\n",
        "max_words=500\n",
        "\n",
        "X_train = pad_sequences(X_train, maxlen=max_words)\n",
        "X_test = pad_sequences(X_test, maxlen=max_words)\n",
        "\n"
      ],
      "execution_count": 0,
      "outputs": []
    },
    {
      "cell_type": "code",
      "metadata": {
        "id": "TJFVg19V5_4Q",
        "colab_type": "code",
        "outputId": "f4442371-2579-4649-e98a-7a6c6ef989b5",
        "colab": {
          "base_uri": "https://localhost:8080/",
          "height": 92
        }
      },
      "source": [
        "from keras import Sequential \n",
        "from keras.layers import Embedding, LSTM, Dense, Dropout\n",
        "\n",
        "embedding_size = 32\n",
        "\n",
        "model=Sequential()\n",
        "model.add(Embedding(vocab_size,embedding_size, input_length= max_words))\n",
        "model.add(LSTM(100))\n",
        "model.add(Dense(1, activation='sigmoid'))\n",
        "          \n",
        "          "
      ],
      "execution_count": 0,
      "outputs": [
        {
          "output_type": "stream",
          "text": [
            "WARNING:tensorflow:From /usr/local/lib/python3.6/dist-packages/tensorflow/python/framework/op_def_library.py:263: colocate_with (from tensorflow.python.framework.ops) is deprecated and will be removed in a future version.\n",
            "Instructions for updating:\n",
            "Colocations handled automatically by placer.\n"
          ],
          "name": "stdout"
        }
      ]
    },
    {
      "cell_type": "code",
      "metadata": {
        "id": "wtMPZiKQ73d4",
        "colab_type": "code",
        "outputId": "f4b25d1c-0859-47aa-9960-b8b3b4de4169",
        "colab": {
          "base_uri": "https://localhost:8080/",
          "height": 274
        }
      },
      "source": [
        "print(model.summary())"
      ],
      "execution_count": 0,
      "outputs": [
        {
          "output_type": "stream",
          "text": [
            "_________________________________________________________________\n",
            "Layer (type)                 Output Shape              Param #   \n",
            "=================================================================\n",
            "embedding_1 (Embedding)      (None, 500, 32)           160000    \n",
            "_________________________________________________________________\n",
            "lstm_1 (LSTM)                (None, 100)               53200     \n",
            "_________________________________________________________________\n",
            "dense_1 (Dense)              (None, 1)                 101       \n",
            "=================================================================\n",
            "Total params: 213,301\n",
            "Trainable params: 213,301\n",
            "Non-trainable params: 0\n",
            "_________________________________________________________________\n",
            "None\n"
          ],
          "name": "stdout"
        }
      ]
    },
    {
      "cell_type": "code",
      "metadata": {
        "id": "awb8_qSw8V1r",
        "colab_type": "code",
        "colab": {}
      },
      "source": [
        "model.compile(loss='binary_crossentropy', optimizer='adam', metrics=['accuracy'])"
      ],
      "execution_count": 0,
      "outputs": []
    },
    {
      "cell_type": "code",
      "metadata": {
        "id": "4hHu_JxPCPf8",
        "colab_type": "code",
        "outputId": "f65d499f-acb1-4cf7-b519-5649a8cf460c",
        "colab": {
          "base_uri": "https://localhost:8080/",
          "height": 72
        }
      },
      "source": [
        "from keras.callbacks import EarlyStopping\n",
        "from tensorboardcolab import *\n",
        "tbc = TensorBoardColab()\n",
        "es = EarlyStopping(monitor = \"val_loss\", patience = 10)"
      ],
      "execution_count": 0,
      "outputs": [
        {
          "output_type": "stream",
          "text": [
            "Wait for 8 seconds...\n",
            "TensorBoard link:\n",
            "https://c5eca4f8.ngrok.io\n"
          ],
          "name": "stdout"
        }
      ]
    },
    {
      "cell_type": "code",
      "metadata": {
        "id": "Ud3GlM3Y8pQo",
        "colab_type": "code",
        "outputId": "3a204d18-c254-4e79-f3ae-c7e1fcbc6c72",
        "colab": {
          "base_uri": "https://localhost:8080/",
          "height": 496
        }
      },
      "source": [
        "batch_size = 64\n",
        "num_epochs = 10\n",
        "\n",
        "X_valid, y_valid = X_train[:batch_size], y_train[:batch_size]\n",
        "X_train2, y_train2 = X_train[batch_size:], y_train[batch_size:]\n",
        "\n",
        "model.fit(X_train2, y_train2, validation_data=(X_valid, y_valid), batch_size=batch_size, epochs=num_epochs, callbacks = [es, TensorBoardColabCallback(tbc)])"
      ],
      "execution_count": 0,
      "outputs": [
        {
          "output_type": "stream",
          "text": [
            "WARNING:tensorflow:From /usr/local/lib/python3.6/dist-packages/tensorflow/python/ops/math_ops.py:3066: to_int32 (from tensorflow.python.ops.math_ops) is deprecated and will be removed in a future version.\n",
            "Instructions for updating:\n",
            "Use tf.cast instead.\n",
            "Train on 24936 samples, validate on 64 samples\n",
            "Epoch 1/10\n",
            "24936/24936 [==============================] - 385s 15ms/step - loss: 0.4812 - acc: 0.7676 - val_loss: 0.1891 - val_acc: 0.9688\n",
            "Epoch 2/10\n",
            "24936/24936 [==============================] - 387s 16ms/step - loss: 0.2912 - acc: 0.8829 - val_loss: 0.2028 - val_acc: 0.9531\n",
            "Epoch 3/10\n",
            "24936/24936 [==============================] - 390s 16ms/step - loss: 0.2336 - acc: 0.9094 - val_loss: 0.1504 - val_acc: 0.9219\n",
            "Epoch 4/10\n",
            "24936/24936 [==============================] - 390s 16ms/step - loss: 0.2624 - acc: 0.8911 - val_loss: 0.2227 - val_acc: 0.9375\n",
            "Epoch 5/10\n",
            "24936/24936 [==============================] - 391s 16ms/step - loss: 0.1956 - acc: 0.9255 - val_loss: 0.1971 - val_acc: 0.9688\n",
            "Epoch 6/10\n",
            "24936/24936 [==============================] - 385s 15ms/step - loss: 0.1675 - acc: 0.9368 - val_loss: 0.2038 - val_acc: 0.9219\n",
            "Epoch 7/10\n",
            "24936/24936 [==============================] - 385s 15ms/step - loss: 0.1477 - acc: 0.9455 - val_loss: 0.1858 - val_acc: 0.9375\n",
            "Epoch 8/10\n",
            "24936/24936 [==============================] - 385s 15ms/step - loss: 0.1242 - acc: 0.9550 - val_loss: 0.2194 - val_acc: 0.9062\n",
            "Epoch 9/10\n",
            "24936/24936 [==============================] - 386s 15ms/step - loss: 0.1141 - acc: 0.9584 - val_loss: 0.1462 - val_acc: 0.9219\n",
            "Epoch 10/10\n",
            "24936/24936 [==============================] - 383s 15ms/step - loss: 0.1003 - acc: 0.9632 - val_loss: 0.2126 - val_acc: 0.8750\n"
          ],
          "name": "stdout"
        },
        {
          "output_type": "execute_result",
          "data": {
            "text/plain": [
              "<keras.callbacks.History at 0x7f779c90b7b8>"
            ]
          },
          "metadata": {
            "tags": []
          },
          "execution_count": 12
        }
      ]
    },
    {
      "cell_type": "code",
      "metadata": {
        "id": "mAjMvoCZ5lBx",
        "colab_type": "code",
        "outputId": "e072d36a-d9f6-4d93-8e55-9d05e5041f60",
        "colab": {
          "base_uri": "https://localhost:8080/",
          "height": 35
        }
      },
      "source": [
        "scores = model.evaluate(X_test, y_test, verbose=0)\n",
        "print('Test accuracy:', scores[1])"
      ],
      "execution_count": 0,
      "outputs": [
        {
          "output_type": "stream",
          "text": [
            "Test accuracy: 0.86212\n"
          ],
          "name": "stdout"
        }
      ]
    },
    {
      "cell_type": "code",
      "metadata": {
        "id": "ZijoQ_IJ5mJz",
        "colab_type": "code",
        "colab": {}
      },
      "source": [
        ""
      ],
      "execution_count": 0,
      "outputs": []
    }
  ]
}